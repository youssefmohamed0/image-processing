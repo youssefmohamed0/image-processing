{
 "cells": [
  {
   "cell_type": "code",
   "execution_count": 12,
   "metadata": {},
   "outputs": [],
   "source": [
    "import cv2\n",
    "import matplotlib.pyplot\n",
    "import numpy as np"
   ]
  },
  {
   "cell_type": "code",
   "execution_count": 237,
   "metadata": {},
   "outputs": [],
   "source": [
    "color_image_path=\"images/colors.png\"\n",
    "bunny_image_path=\"images/bunny.jpg\"\n",
    "img_path=\"images/test.jpg\""
   ]
  },
  {
   "cell_type": "code",
   "execution_count": 282,
   "metadata": {},
   "outputs": [],
   "source": [
    "def get_range(color):\n",
    "    c=np.uint8([[color]])\n",
    "\n",
    "    hsvc = cv2.cvtColor(c,cv2.COLOR_BGR2HSV)\n",
    "\n",
    "    lowerlimt = max(0,hsvc[0][0][0]-10), max(0,hsvc[0][0][1] -10), max(0,hsvc[0][0][2] - 10)\n",
    "    upperlimt = min(255,hsvc[0][0][0]+10), min(255,hsvc[0][0][1] +10), min(255,hsvc[0][0][2] + 10)\n",
    "\n",
    "    print(hsvc[0][0])\n",
    "    print(lowerlimt)\n",
    "    print(upperlimt)\n",
    "\n",
    "\n",
    "    lowerlimt = np.array(lowerlimt, dtype=np.uint8)\n",
    "    upperlimt = np.array(upperlimt, dtype=np.uint8)\n",
    "\n",
    "    return lowerlimt, upperlimt"
   ]
  },
  {
   "cell_type": "code",
   "execution_count": 284,
   "metadata": {},
   "outputs": [
    {
     "name": "stdout",
     "output_type": "stream",
     "text": [
      "[ 11  58 255]\n",
      "(1, 48, 245)\n",
      "(21, 68, 255)\n"
     ]
    }
   ],
   "source": [
    "color_img=cv2.imread(img_path)\n",
    "\n",
    "point=None\n",
    "color=None\n",
    "masked_image=None\n",
    "\n",
    "def extract(event,x,y,flag,param):\n",
    "    global point\n",
    "    global color\n",
    "    global masked_image\n",
    "    if event == cv2.EVENT_LBUTTONDOWN:\n",
    "        if point is None:\n",
    "            point = (y,x)\n",
    "            color = color_img[point]\n",
    "\n",
    "            hsv=cv2.cvtColor(color_img,cv2.COLOR_BGR2HSV)\n",
    "            \n",
    "            lower_color, upper_color = get_range(color)   # get color ranges in hsv (hue)\n",
    "\n",
    "            mask = cv2.inRange(hsv, lower_color, upper_color) # create a mask using the obtained hsv ranges and the hsv converted image\n",
    "\n",
    "            masked_image = cv2.bitwise_and(color_img,color_img,mask=mask)\n",
    "\n",
    "            cv2.imshow(\"mask\",mask)\n",
    "            cv2.imshow(\"masked image\",masked_image)\n",
    "\n",
    "\n",
    "\n",
    "cv2.namedWindow('image')\n",
    "cv2.setMouseCallback(\"image\",extract)\n",
    "\n",
    "\n",
    "while True:\n",
    "    cv2.imshow(\"image\",color_img)\n",
    "\n",
    "    key = cv2.waitKey(1)\n",
    "    if key == 27:\n",
    "        break\n",
    "\n",
    "\n",
    "cv2.destroyAllWindows()"
   ]
  },
  {
   "cell_type": "code",
   "execution_count": 143,
   "metadata": {},
   "outputs": [],
   "source": [
    "# color_img=cv2.imread(color_image_path)\n",
    "\n",
    "# point1=None\n",
    "# color=None\n",
    "# masked_image=None\n",
    "\n",
    "# def crop(event,x,y,flag,param):\n",
    "#     global point1\n",
    "#     global color\n",
    "#     global masked_image\n",
    "#     if event == cv2.EVENT_LBUTTONDOWN:\n",
    "#         if point1 is None:\n",
    "#             point1 = (y,x)\n",
    "\n",
    "            \n",
    "#             color = color_img[point1]\n",
    "#             mask = np.zeros(color_img.shape,dtype=np.uint8)\n",
    "#             mask[color_img==color] = 255\n",
    "#             mask = cv2.cvtColor(mask,cv2.COLOR_BGRA2GRAY)\n",
    "#             masked_image = cv2.bitwise_and(color_img,color_img,mask=mask)\n",
    "#             cv2.imshow(\"mask\",masked_image)\n",
    "\n",
    "\n",
    "\n",
    "# cv2.namedWindow('image')\n",
    "# cv2.setMouseCallback(\"image\",crop)\n",
    "\n",
    "\n",
    "# while True:\n",
    "#     cv2.imshow(\"image\",color_img)\n",
    "\n",
    "#     key = cv2.waitKey(1)\n",
    "#     if key == 27:\n",
    "#         break\n",
    "\n",
    "\n",
    "# cv2.destroyAllWindows()"
   ]
  },
  {
   "cell_type": "code",
   "execution_count": 229,
   "metadata": {},
   "outputs": [
    {
     "name": "stdout",
     "output_type": "stream",
     "text": [
      "(150, 0, 0)\n"
     ]
    }
   ],
   "source": [
    "x= 170-20,0,0\n",
    "print((x))"
   ]
  },
  {
   "cell_type": "code",
   "execution_count": null,
   "metadata": {},
   "outputs": [],
   "source": []
  }
 ],
 "metadata": {
  "kernelspec": {
   "display_name": "Python 3",
   "language": "python",
   "name": "python3"
  },
  "language_info": {
   "codemirror_mode": {
    "name": "ipython",
    "version": 3
   },
   "file_extension": ".py",
   "mimetype": "text/x-python",
   "name": "python",
   "nbconvert_exporter": "python",
   "pygments_lexer": "ipython3",
   "version": "3.11.5"
  }
 },
 "nbformat": 4,
 "nbformat_minor": 2
}
