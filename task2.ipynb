{
 "cells": [
  {
   "cell_type": "code",
   "execution_count": 12,
   "metadata": {},
   "outputs": [],
   "source": [
    "import cv2\n",
    "import matplotlib.pyplot\n",
    "import numpy as np"
   ]
  },
  {
   "cell_type": "code",
   "execution_count": 3,
   "metadata": {},
   "outputs": [],
   "source": [
    "color_image_path=\"images/colors.png\"\n",
    "bunny_image_path=\"images/bunny.jpg\""
   ]
  },
  {
   "cell_type": "code",
   "execution_count": 36,
   "metadata": {},
   "outputs": [
    {
     "ename": "IndexError",
     "evalue": "boolean index did not match indexed array along dimension 0; dimension is 565 but corresponding boolean dimension is 960",
     "output_type": "error",
     "traceback": [
      "\u001b[1;31m---------------------------------------------------------------------------\u001b[0m",
      "\u001b[1;31mIndexError\u001b[0m                                Traceback (most recent call last)",
      "Cell \u001b[1;32mIn[36], line 15\u001b[0m, in \u001b[0;36mcrop\u001b[1;34m(event, x, y, flag, param)\u001b[0m\n\u001b[0;32m     13\u001b[0m color \u001b[38;5;241m=\u001b[39m hsv_color_img[point1]\n\u001b[0;32m     14\u001b[0m mask \u001b[38;5;241m=\u001b[39m np\u001b[38;5;241m.\u001b[39mzeros(color_img\u001b[38;5;241m.\u001b[39mshape,dtype\u001b[38;5;241m=\u001b[39mnp\u001b[38;5;241m.\u001b[39muint8)\n\u001b[1;32m---> 15\u001b[0m \u001b[43mmask\u001b[49m\u001b[43m[\u001b[49m\u001b[43mcolor_img\u001b[49m\u001b[43m[\u001b[49m\u001b[38;5;241;43m2\u001b[39;49m\u001b[43m]\u001b[49m\u001b[38;5;241;43m==\u001b[39;49m\u001b[43mcolor\u001b[49m\u001b[43m]\u001b[49m \u001b[38;5;241m=\u001b[39m \u001b[38;5;241m255\u001b[39m\n\u001b[0;32m     16\u001b[0m mask \u001b[38;5;241m=\u001b[39m cv2\u001b[38;5;241m.\u001b[39mcvtColor(mask,cv2\u001b[38;5;241m.\u001b[39mCOLOR_BGRA2GRAY)\n\u001b[0;32m     17\u001b[0m masked_image \u001b[38;5;241m=\u001b[39m cv2\u001b[38;5;241m.\u001b[39mbitwise_and(color_img,color_img,mask\u001b[38;5;241m=\u001b[39mmask)\n",
      "\u001b[1;31mIndexError\u001b[0m: boolean index did not match indexed array along dimension 0; dimension is 565 but corresponding boolean dimension is 960"
     ]
    }
   ],
   "source": [
    "color_img=cv2.imread(color_image_path)\n",
    "\n",
    "point1=None\n",
    "color=None\n",
    "masked_image=None\n",
    "\n",
    "def crop(event,x,y,flag,param):\n",
    "    global point1\n",
    "    if event == cv2.EVENT_LBUTTONDOWN:\n",
    "        if point1 is None:\n",
    "            point1 = (y,x)\n",
    "            color = color_img[point1]\n",
    "            mask = np.zeros(color_img.shape,dtype=np.uint8)\n",
    "            mask[color_img==color] = 255\n",
    "            mask = cv2.cvtColor(mask,cv2.COLOR_BGRA2GRAY)\n",
    "            masked_image = cv2.bitwise_and(color_img,color_img,mask=mask)\n",
    "            cv2.imshow(\"mask\",masked_image)\n",
    "\n",
    "\n",
    "\n",
    "cv2.namedWindow('image')\n",
    "cv2.setMouseCallback(\"image\",crop)\n",
    "\n",
    "\n",
    "while True:\n",
    "    cv2.imshow(\"image\",color_img)\n",
    "\n",
    "    key = cv2.waitKey(1)\n",
    "    if key == 27:\n",
    "        break\n",
    "\n",
    "\n",
    "cv2.destroyAllWindows()"
   ]
  },
  {
   "cell_type": "code",
   "execution_count": null,
   "metadata": {},
   "outputs": [],
   "source": []
  }
 ],
 "metadata": {
  "kernelspec": {
   "display_name": "Python 3",
   "language": "python",
   "name": "python3"
  },
  "language_info": {
   "codemirror_mode": {
    "name": "ipython",
    "version": 3
   },
   "file_extension": ".py",
   "mimetype": "text/x-python",
   "name": "python",
   "nbconvert_exporter": "python",
   "pygments_lexer": "ipython3",
   "version": "3.11.5"
  }
 },
 "nbformat": 4,
 "nbformat_minor": 2
}
