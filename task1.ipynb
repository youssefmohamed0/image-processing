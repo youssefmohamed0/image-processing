{
 "cells": [
  {
   "cell_type": "code",
   "execution_count": 1,
   "metadata": {},
   "outputs": [],
   "source": [
    "import cv2\n",
    "import matplotlib.pyplot\n",
    "import numpy\n",
    "import math"
   ]
  },
  {
   "cell_type": "code",
   "execution_count": 2,
   "metadata": {},
   "outputs": [],
   "source": [
    "bunny_image_path=\"images/bunny.jpg\""
   ]
  },
  {
   "cell_type": "markdown",
   "metadata": {},
   "source": [
    "# crop image"
   ]
  },
  {
   "cell_type": "code",
   "execution_count": 7,
   "metadata": {},
   "outputs": [
    {
     "name": "stdout",
     "output_type": "stream",
     "text": [
      "(451, 243)\n",
      "(817, 523)\n"
     ]
    },
    {
     "ename": "error",
     "evalue": "OpenCV(4.10.0) D:\\a\\opencv-python\\opencv-python\\opencv\\modules\\imgcodecs\\src\\loadsave.cpp:708: error: (-2:Unspecified error) could not find a writer for the specified extension in function 'cv::imwrite_'\n",
     "output_type": "error",
     "traceback": [
      "\u001b[1;31m---------------------------------------------------------------------------\u001b[0m",
      "\u001b[1;31merror\u001b[0m                                     Traceback (most recent call last)",
      "Cell \u001b[1;32mIn[7], line 18\u001b[0m, in \u001b[0;36mcrop\u001b[1;34m(event, x, y, flag, param)\u001b[0m\n\u001b[0;32m     16\u001b[0m croped_image \u001b[38;5;241m=\u001b[39m bunny_img[\u001b[38;5;28mmin\u001b[39m(point1[\u001b[38;5;241m1\u001b[39m],point2[\u001b[38;5;241m1\u001b[39m]):\u001b[38;5;28mmax\u001b[39m(point1[\u001b[38;5;241m1\u001b[39m],point2[\u001b[38;5;241m1\u001b[39m]),\u001b[38;5;28mmin\u001b[39m(point1[\u001b[38;5;241m0\u001b[39m],point2[\u001b[38;5;241m0\u001b[39m]):\u001b[38;5;28mmax\u001b[39m(point1[\u001b[38;5;241m0\u001b[39m],point2[\u001b[38;5;241m0\u001b[39m])]\n\u001b[0;32m     17\u001b[0m cv2\u001b[38;5;241m.\u001b[39mimshow(\u001b[38;5;124m\"\u001b[39m\u001b[38;5;124mcropped image\u001b[39m\u001b[38;5;124m\"\u001b[39m,croped_image)\n\u001b[1;32m---> 18\u001b[0m \u001b[43mcv2\u001b[49m\u001b[38;5;241;43m.\u001b[39;49m\u001b[43mimwrite\u001b[49m\u001b[43m(\u001b[49m\u001b[38;5;124;43mf\u001b[39;49m\u001b[38;5;124;43m\"\u001b[39;49m\u001b[38;5;124;43mimages/cropped_ouput\u001b[39;49m\u001b[38;5;124;43m\"\u001b[39;49m\u001b[43m,\u001b[49m\u001b[43mcroped_image\u001b[49m\u001b[43m)\u001b[49m\n",
      "\u001b[1;31merror\u001b[0m: OpenCV(4.10.0) D:\\a\\opencv-python\\opencv-python\\opencv\\modules\\imgcodecs\\src\\loadsave.cpp:708: error: (-2:Unspecified error) could not find a writer for the specified extension in function 'cv::imwrite_'\n"
     ]
    },
    {
     "ename": "error",
     "evalue": "OpenCV(4.10.0) D:\\a\\opencv-python\\opencv-python\\opencv\\modules\\imgcodecs\\src\\loadsave.cpp:708: error: (-2:Unspecified error) could not find a writer for the specified extension in function 'cv::imwrite_'\n",
     "output_type": "error",
     "traceback": [
      "\u001b[1;31m---------------------------------------------------------------------------\u001b[0m",
      "\u001b[1;31merror\u001b[0m                                     Traceback (most recent call last)",
      "Cell \u001b[1;32mIn[7], line 18\u001b[0m, in \u001b[0;36mcrop\u001b[1;34m(event, x, y, flag, param)\u001b[0m\n\u001b[0;32m     16\u001b[0m croped_image \u001b[38;5;241m=\u001b[39m bunny_img[\u001b[38;5;28mmin\u001b[39m(point1[\u001b[38;5;241m1\u001b[39m],point2[\u001b[38;5;241m1\u001b[39m]):\u001b[38;5;28mmax\u001b[39m(point1[\u001b[38;5;241m1\u001b[39m],point2[\u001b[38;5;241m1\u001b[39m]),\u001b[38;5;28mmin\u001b[39m(point1[\u001b[38;5;241m0\u001b[39m],point2[\u001b[38;5;241m0\u001b[39m]):\u001b[38;5;28mmax\u001b[39m(point1[\u001b[38;5;241m0\u001b[39m],point2[\u001b[38;5;241m0\u001b[39m])]\n\u001b[0;32m     17\u001b[0m cv2\u001b[38;5;241m.\u001b[39mimshow(\u001b[38;5;124m\"\u001b[39m\u001b[38;5;124mcropped image\u001b[39m\u001b[38;5;124m\"\u001b[39m,croped_image)\n\u001b[1;32m---> 18\u001b[0m \u001b[43mcv2\u001b[49m\u001b[38;5;241;43m.\u001b[39;49m\u001b[43mimwrite\u001b[49m\u001b[43m(\u001b[49m\u001b[38;5;124;43mf\u001b[39;49m\u001b[38;5;124;43m\"\u001b[39;49m\u001b[38;5;124;43mimages/cropped_ouput\u001b[39;49m\u001b[38;5;124;43m\"\u001b[39;49m\u001b[43m,\u001b[49m\u001b[43mcroped_image\u001b[49m\u001b[43m)\u001b[49m\n",
      "\u001b[1;31merror\u001b[0m: OpenCV(4.10.0) D:\\a\\opencv-python\\opencv-python\\opencv\\modules\\imgcodecs\\src\\loadsave.cpp:708: error: (-2:Unspecified error) could not find a writer for the specified extension in function 'cv::imwrite_'\n"
     ]
    },
    {
     "ename": "error",
     "evalue": "OpenCV(4.10.0) D:\\a\\opencv-python\\opencv-python\\opencv\\modules\\imgcodecs\\src\\loadsave.cpp:708: error: (-2:Unspecified error) could not find a writer for the specified extension in function 'cv::imwrite_'\n",
     "output_type": "error",
     "traceback": [
      "\u001b[1;31m---------------------------------------------------------------------------\u001b[0m",
      "\u001b[1;31merror\u001b[0m                                     Traceback (most recent call last)",
      "Cell \u001b[1;32mIn[7], line 18\u001b[0m, in \u001b[0;36mcrop\u001b[1;34m(event, x, y, flag, param)\u001b[0m\n\u001b[0;32m     16\u001b[0m croped_image \u001b[38;5;241m=\u001b[39m bunny_img[\u001b[38;5;28mmin\u001b[39m(point1[\u001b[38;5;241m1\u001b[39m],point2[\u001b[38;5;241m1\u001b[39m]):\u001b[38;5;28mmax\u001b[39m(point1[\u001b[38;5;241m1\u001b[39m],point2[\u001b[38;5;241m1\u001b[39m]),\u001b[38;5;28mmin\u001b[39m(point1[\u001b[38;5;241m0\u001b[39m],point2[\u001b[38;5;241m0\u001b[39m]):\u001b[38;5;28mmax\u001b[39m(point1[\u001b[38;5;241m0\u001b[39m],point2[\u001b[38;5;241m0\u001b[39m])]\n\u001b[0;32m     17\u001b[0m cv2\u001b[38;5;241m.\u001b[39mimshow(\u001b[38;5;124m\"\u001b[39m\u001b[38;5;124mcropped image\u001b[39m\u001b[38;5;124m\"\u001b[39m,croped_image)\n\u001b[1;32m---> 18\u001b[0m \u001b[43mcv2\u001b[49m\u001b[38;5;241;43m.\u001b[39;49m\u001b[43mimwrite\u001b[49m\u001b[43m(\u001b[49m\u001b[38;5;124;43mf\u001b[39;49m\u001b[38;5;124;43m\"\u001b[39;49m\u001b[38;5;124;43mimages/cropped_ouput\u001b[39;49m\u001b[38;5;124;43m\"\u001b[39;49m\u001b[43m,\u001b[49m\u001b[43mcroped_image\u001b[49m\u001b[43m)\u001b[49m\n",
      "\u001b[1;31merror\u001b[0m: OpenCV(4.10.0) D:\\a\\opencv-python\\opencv-python\\opencv\\modules\\imgcodecs\\src\\loadsave.cpp:708: error: (-2:Unspecified error) could not find a writer for the specified extension in function 'cv::imwrite_'\n"
     ]
    },
    {
     "ename": "error",
     "evalue": "OpenCV(4.10.0) D:\\a\\opencv-python\\opencv-python\\opencv\\modules\\imgcodecs\\src\\loadsave.cpp:708: error: (-2:Unspecified error) could not find a writer for the specified extension in function 'cv::imwrite_'\n",
     "output_type": "error",
     "traceback": [
      "\u001b[1;31m---------------------------------------------------------------------------\u001b[0m",
      "\u001b[1;31merror\u001b[0m                                     Traceback (most recent call last)",
      "Cell \u001b[1;32mIn[7], line 18\u001b[0m, in \u001b[0;36mcrop\u001b[1;34m(event, x, y, flag, param)\u001b[0m\n\u001b[0;32m     16\u001b[0m croped_image \u001b[38;5;241m=\u001b[39m bunny_img[\u001b[38;5;28mmin\u001b[39m(point1[\u001b[38;5;241m1\u001b[39m],point2[\u001b[38;5;241m1\u001b[39m]):\u001b[38;5;28mmax\u001b[39m(point1[\u001b[38;5;241m1\u001b[39m],point2[\u001b[38;5;241m1\u001b[39m]),\u001b[38;5;28mmin\u001b[39m(point1[\u001b[38;5;241m0\u001b[39m],point2[\u001b[38;5;241m0\u001b[39m]):\u001b[38;5;28mmax\u001b[39m(point1[\u001b[38;5;241m0\u001b[39m],point2[\u001b[38;5;241m0\u001b[39m])]\n\u001b[0;32m     17\u001b[0m cv2\u001b[38;5;241m.\u001b[39mimshow(\u001b[38;5;124m\"\u001b[39m\u001b[38;5;124mcropped image\u001b[39m\u001b[38;5;124m\"\u001b[39m,croped_image)\n\u001b[1;32m---> 18\u001b[0m \u001b[43mcv2\u001b[49m\u001b[38;5;241;43m.\u001b[39;49m\u001b[43mimwrite\u001b[49m\u001b[43m(\u001b[49m\u001b[38;5;124;43mf\u001b[39;49m\u001b[38;5;124;43m\"\u001b[39;49m\u001b[38;5;124;43mimages/cropped_ouput\u001b[39;49m\u001b[38;5;124;43m\"\u001b[39;49m\u001b[43m,\u001b[49m\u001b[43mcroped_image\u001b[49m\u001b[43m)\u001b[49m\n",
      "\u001b[1;31merror\u001b[0m: OpenCV(4.10.0) D:\\a\\opencv-python\\opencv-python\\opencv\\modules\\imgcodecs\\src\\loadsave.cpp:708: error: (-2:Unspecified error) could not find a writer for the specified extension in function 'cv::imwrite_'\n"
     ]
    },
    {
     "ename": "error",
     "evalue": "OpenCV(4.10.0) D:\\a\\opencv-python\\opencv-python\\opencv\\modules\\imgcodecs\\src\\loadsave.cpp:708: error: (-2:Unspecified error) could not find a writer for the specified extension in function 'cv::imwrite_'\n",
     "output_type": "error",
     "traceback": [
      "\u001b[1;31m---------------------------------------------------------------------------\u001b[0m",
      "\u001b[1;31merror\u001b[0m                                     Traceback (most recent call last)",
      "Cell \u001b[1;32mIn[7], line 18\u001b[0m, in \u001b[0;36mcrop\u001b[1;34m(event, x, y, flag, param)\u001b[0m\n\u001b[0;32m     16\u001b[0m croped_image \u001b[38;5;241m=\u001b[39m bunny_img[\u001b[38;5;28mmin\u001b[39m(point1[\u001b[38;5;241m1\u001b[39m],point2[\u001b[38;5;241m1\u001b[39m]):\u001b[38;5;28mmax\u001b[39m(point1[\u001b[38;5;241m1\u001b[39m],point2[\u001b[38;5;241m1\u001b[39m]),\u001b[38;5;28mmin\u001b[39m(point1[\u001b[38;5;241m0\u001b[39m],point2[\u001b[38;5;241m0\u001b[39m]):\u001b[38;5;28mmax\u001b[39m(point1[\u001b[38;5;241m0\u001b[39m],point2[\u001b[38;5;241m0\u001b[39m])]\n\u001b[0;32m     17\u001b[0m cv2\u001b[38;5;241m.\u001b[39mimshow(\u001b[38;5;124m\"\u001b[39m\u001b[38;5;124mcropped image\u001b[39m\u001b[38;5;124m\"\u001b[39m,croped_image)\n\u001b[1;32m---> 18\u001b[0m \u001b[43mcv2\u001b[49m\u001b[38;5;241;43m.\u001b[39;49m\u001b[43mimwrite\u001b[49m\u001b[43m(\u001b[49m\u001b[38;5;124;43mf\u001b[39;49m\u001b[38;5;124;43m\"\u001b[39;49m\u001b[38;5;124;43mimages/cropped_ouput\u001b[39;49m\u001b[38;5;124;43m\"\u001b[39;49m\u001b[43m,\u001b[49m\u001b[43mcroped_image\u001b[49m\u001b[43m)\u001b[49m\n",
      "\u001b[1;31merror\u001b[0m: OpenCV(4.10.0) D:\\a\\opencv-python\\opencv-python\\opencv\\modules\\imgcodecs\\src\\loadsave.cpp:708: error: (-2:Unspecified error) could not find a writer for the specified extension in function 'cv::imwrite_'\n"
     ]
    },
    {
     "ename": "error",
     "evalue": "OpenCV(4.10.0) D:\\a\\opencv-python\\opencv-python\\opencv\\modules\\imgcodecs\\src\\loadsave.cpp:708: error: (-2:Unspecified error) could not find a writer for the specified extension in function 'cv::imwrite_'\n",
     "output_type": "error",
     "traceback": [
      "\u001b[1;31m---------------------------------------------------------------------------\u001b[0m",
      "\u001b[1;31merror\u001b[0m                                     Traceback (most recent call last)",
      "Cell \u001b[1;32mIn[7], line 18\u001b[0m, in \u001b[0;36mcrop\u001b[1;34m(event, x, y, flag, param)\u001b[0m\n\u001b[0;32m     16\u001b[0m croped_image \u001b[38;5;241m=\u001b[39m bunny_img[\u001b[38;5;28mmin\u001b[39m(point1[\u001b[38;5;241m1\u001b[39m],point2[\u001b[38;5;241m1\u001b[39m]):\u001b[38;5;28mmax\u001b[39m(point1[\u001b[38;5;241m1\u001b[39m],point2[\u001b[38;5;241m1\u001b[39m]),\u001b[38;5;28mmin\u001b[39m(point1[\u001b[38;5;241m0\u001b[39m],point2[\u001b[38;5;241m0\u001b[39m]):\u001b[38;5;28mmax\u001b[39m(point1[\u001b[38;5;241m0\u001b[39m],point2[\u001b[38;5;241m0\u001b[39m])]\n\u001b[0;32m     17\u001b[0m cv2\u001b[38;5;241m.\u001b[39mimshow(\u001b[38;5;124m\"\u001b[39m\u001b[38;5;124mcropped image\u001b[39m\u001b[38;5;124m\"\u001b[39m,croped_image)\n\u001b[1;32m---> 18\u001b[0m \u001b[43mcv2\u001b[49m\u001b[38;5;241;43m.\u001b[39;49m\u001b[43mimwrite\u001b[49m\u001b[43m(\u001b[49m\u001b[38;5;124;43mf\u001b[39;49m\u001b[38;5;124;43m\"\u001b[39;49m\u001b[38;5;124;43mimages/cropped_ouput\u001b[39;49m\u001b[38;5;124;43m\"\u001b[39;49m\u001b[43m,\u001b[49m\u001b[43mcroped_image\u001b[49m\u001b[43m)\u001b[49m\n",
      "\u001b[1;31merror\u001b[0m: OpenCV(4.10.0) D:\\a\\opencv-python\\opencv-python\\opencv\\modules\\imgcodecs\\src\\loadsave.cpp:708: error: (-2:Unspecified error) could not find a writer for the specified extension in function 'cv::imwrite_'\n"
     ]
    },
    {
     "ename": "error",
     "evalue": "OpenCV(4.10.0) D:\\a\\opencv-python\\opencv-python\\opencv\\modules\\imgcodecs\\src\\loadsave.cpp:708: error: (-2:Unspecified error) could not find a writer for the specified extension in function 'cv::imwrite_'\n",
     "output_type": "error",
     "traceback": [
      "\u001b[1;31m---------------------------------------------------------------------------\u001b[0m",
      "\u001b[1;31merror\u001b[0m                                     Traceback (most recent call last)",
      "Cell \u001b[1;32mIn[7], line 18\u001b[0m, in \u001b[0;36mcrop\u001b[1;34m(event, x, y, flag, param)\u001b[0m\n\u001b[0;32m     16\u001b[0m croped_image \u001b[38;5;241m=\u001b[39m bunny_img[\u001b[38;5;28mmin\u001b[39m(point1[\u001b[38;5;241m1\u001b[39m],point2[\u001b[38;5;241m1\u001b[39m]):\u001b[38;5;28mmax\u001b[39m(point1[\u001b[38;5;241m1\u001b[39m],point2[\u001b[38;5;241m1\u001b[39m]),\u001b[38;5;28mmin\u001b[39m(point1[\u001b[38;5;241m0\u001b[39m],point2[\u001b[38;5;241m0\u001b[39m]):\u001b[38;5;28mmax\u001b[39m(point1[\u001b[38;5;241m0\u001b[39m],point2[\u001b[38;5;241m0\u001b[39m])]\n\u001b[0;32m     17\u001b[0m cv2\u001b[38;5;241m.\u001b[39mimshow(\u001b[38;5;124m\"\u001b[39m\u001b[38;5;124mcropped image\u001b[39m\u001b[38;5;124m\"\u001b[39m,croped_image)\n\u001b[1;32m---> 18\u001b[0m \u001b[43mcv2\u001b[49m\u001b[38;5;241;43m.\u001b[39;49m\u001b[43mimwrite\u001b[49m\u001b[43m(\u001b[49m\u001b[38;5;124;43mf\u001b[39;49m\u001b[38;5;124;43m\"\u001b[39;49m\u001b[38;5;124;43mimages/cropped_ouput\u001b[39;49m\u001b[38;5;124;43m\"\u001b[39;49m\u001b[43m,\u001b[49m\u001b[43mcroped_image\u001b[49m\u001b[43m)\u001b[49m\n",
      "\u001b[1;31merror\u001b[0m: OpenCV(4.10.0) D:\\a\\opencv-python\\opencv-python\\opencv\\modules\\imgcodecs\\src\\loadsave.cpp:708: error: (-2:Unspecified error) could not find a writer for the specified extension in function 'cv::imwrite_'\n"
     ]
    },
    {
     "ename": "error",
     "evalue": "OpenCV(4.10.0) D:\\a\\opencv-python\\opencv-python\\opencv\\modules\\imgcodecs\\src\\loadsave.cpp:708: error: (-2:Unspecified error) could not find a writer for the specified extension in function 'cv::imwrite_'\n",
     "output_type": "error",
     "traceback": [
      "\u001b[1;31m---------------------------------------------------------------------------\u001b[0m",
      "\u001b[1;31merror\u001b[0m                                     Traceback (most recent call last)",
      "Cell \u001b[1;32mIn[7], line 18\u001b[0m, in \u001b[0;36mcrop\u001b[1;34m(event, x, y, flag, param)\u001b[0m\n\u001b[0;32m     16\u001b[0m croped_image \u001b[38;5;241m=\u001b[39m bunny_img[\u001b[38;5;28mmin\u001b[39m(point1[\u001b[38;5;241m1\u001b[39m],point2[\u001b[38;5;241m1\u001b[39m]):\u001b[38;5;28mmax\u001b[39m(point1[\u001b[38;5;241m1\u001b[39m],point2[\u001b[38;5;241m1\u001b[39m]),\u001b[38;5;28mmin\u001b[39m(point1[\u001b[38;5;241m0\u001b[39m],point2[\u001b[38;5;241m0\u001b[39m]):\u001b[38;5;28mmax\u001b[39m(point1[\u001b[38;5;241m0\u001b[39m],point2[\u001b[38;5;241m0\u001b[39m])]\n\u001b[0;32m     17\u001b[0m cv2\u001b[38;5;241m.\u001b[39mimshow(\u001b[38;5;124m\"\u001b[39m\u001b[38;5;124mcropped image\u001b[39m\u001b[38;5;124m\"\u001b[39m,croped_image)\n\u001b[1;32m---> 18\u001b[0m \u001b[43mcv2\u001b[49m\u001b[38;5;241;43m.\u001b[39;49m\u001b[43mimwrite\u001b[49m\u001b[43m(\u001b[49m\u001b[38;5;124;43mf\u001b[39;49m\u001b[38;5;124;43m\"\u001b[39;49m\u001b[38;5;124;43mimages/cropped_ouput\u001b[39;49m\u001b[38;5;124;43m\"\u001b[39;49m\u001b[43m,\u001b[49m\u001b[43mcroped_image\u001b[49m\u001b[43m)\u001b[49m\n",
      "\u001b[1;31merror\u001b[0m: OpenCV(4.10.0) D:\\a\\opencv-python\\opencv-python\\opencv\\modules\\imgcodecs\\src\\loadsave.cpp:708: error: (-2:Unspecified error) could not find a writer for the specified extension in function 'cv::imwrite_'\n"
     ]
    },
    {
     "ename": "error",
     "evalue": "OpenCV(4.10.0) D:\\a\\opencv-python\\opencv-python\\opencv\\modules\\imgcodecs\\src\\loadsave.cpp:708: error: (-2:Unspecified error) could not find a writer for the specified extension in function 'cv::imwrite_'\n",
     "output_type": "error",
     "traceback": [
      "\u001b[1;31m---------------------------------------------------------------------------\u001b[0m",
      "\u001b[1;31merror\u001b[0m                                     Traceback (most recent call last)",
      "Cell \u001b[1;32mIn[7], line 18\u001b[0m, in \u001b[0;36mcrop\u001b[1;34m(event, x, y, flag, param)\u001b[0m\n\u001b[0;32m     16\u001b[0m croped_image \u001b[38;5;241m=\u001b[39m bunny_img[\u001b[38;5;28mmin\u001b[39m(point1[\u001b[38;5;241m1\u001b[39m],point2[\u001b[38;5;241m1\u001b[39m]):\u001b[38;5;28mmax\u001b[39m(point1[\u001b[38;5;241m1\u001b[39m],point2[\u001b[38;5;241m1\u001b[39m]),\u001b[38;5;28mmin\u001b[39m(point1[\u001b[38;5;241m0\u001b[39m],point2[\u001b[38;5;241m0\u001b[39m]):\u001b[38;5;28mmax\u001b[39m(point1[\u001b[38;5;241m0\u001b[39m],point2[\u001b[38;5;241m0\u001b[39m])]\n\u001b[0;32m     17\u001b[0m cv2\u001b[38;5;241m.\u001b[39mimshow(\u001b[38;5;124m\"\u001b[39m\u001b[38;5;124mcropped image\u001b[39m\u001b[38;5;124m\"\u001b[39m,croped_image)\n\u001b[1;32m---> 18\u001b[0m \u001b[43mcv2\u001b[49m\u001b[38;5;241;43m.\u001b[39;49m\u001b[43mimwrite\u001b[49m\u001b[43m(\u001b[49m\u001b[38;5;124;43mf\u001b[39;49m\u001b[38;5;124;43m\"\u001b[39;49m\u001b[38;5;124;43mimages/cropped_ouput\u001b[39;49m\u001b[38;5;124;43m\"\u001b[39;49m\u001b[43m,\u001b[49m\u001b[43mcroped_image\u001b[49m\u001b[43m)\u001b[49m\n",
      "\u001b[1;31merror\u001b[0m: OpenCV(4.10.0) D:\\a\\opencv-python\\opencv-python\\opencv\\modules\\imgcodecs\\src\\loadsave.cpp:708: error: (-2:Unspecified error) could not find a writer for the specified extension in function 'cv::imwrite_'\n"
     ]
    },
    {
     "ename": "error",
     "evalue": "OpenCV(4.10.0) D:\\a\\opencv-python\\opencv-python\\opencv\\modules\\imgcodecs\\src\\loadsave.cpp:708: error: (-2:Unspecified error) could not find a writer for the specified extension in function 'cv::imwrite_'\n",
     "output_type": "error",
     "traceback": [
      "\u001b[1;31m---------------------------------------------------------------------------\u001b[0m",
      "\u001b[1;31merror\u001b[0m                                     Traceback (most recent call last)",
      "Cell \u001b[1;32mIn[7], line 18\u001b[0m, in \u001b[0;36mcrop\u001b[1;34m(event, x, y, flag, param)\u001b[0m\n\u001b[0;32m     16\u001b[0m croped_image \u001b[38;5;241m=\u001b[39m bunny_img[\u001b[38;5;28mmin\u001b[39m(point1[\u001b[38;5;241m1\u001b[39m],point2[\u001b[38;5;241m1\u001b[39m]):\u001b[38;5;28mmax\u001b[39m(point1[\u001b[38;5;241m1\u001b[39m],point2[\u001b[38;5;241m1\u001b[39m]),\u001b[38;5;28mmin\u001b[39m(point1[\u001b[38;5;241m0\u001b[39m],point2[\u001b[38;5;241m0\u001b[39m]):\u001b[38;5;28mmax\u001b[39m(point1[\u001b[38;5;241m0\u001b[39m],point2[\u001b[38;5;241m0\u001b[39m])]\n\u001b[0;32m     17\u001b[0m cv2\u001b[38;5;241m.\u001b[39mimshow(\u001b[38;5;124m\"\u001b[39m\u001b[38;5;124mcropped image\u001b[39m\u001b[38;5;124m\"\u001b[39m,croped_image)\n\u001b[1;32m---> 18\u001b[0m \u001b[43mcv2\u001b[49m\u001b[38;5;241;43m.\u001b[39;49m\u001b[43mimwrite\u001b[49m\u001b[43m(\u001b[49m\u001b[38;5;124;43mf\u001b[39;49m\u001b[38;5;124;43m\"\u001b[39;49m\u001b[38;5;124;43mimages/cropped_ouput\u001b[39;49m\u001b[38;5;124;43m\"\u001b[39;49m\u001b[43m,\u001b[49m\u001b[43mcroped_image\u001b[49m\u001b[43m)\u001b[49m\n",
      "\u001b[1;31merror\u001b[0m: OpenCV(4.10.0) D:\\a\\opencv-python\\opencv-python\\opencv\\modules\\imgcodecs\\src\\loadsave.cpp:708: error: (-2:Unspecified error) could not find a writer for the specified extension in function 'cv::imwrite_'\n"
     ]
    }
   ],
   "source": [
    "bunny_img=cv2.imread(bunny_image_path)\n",
    "\n",
    "point1=None\n",
    "point2=None\n",
    "\n",
    "def crop(event,x,y,flag,param):\n",
    "    global point1,point2\n",
    "    if event == cv2.EVENT_LBUTTONDOWN:\n",
    "        if point1 is None:\n",
    "            point1 = (x,y)\n",
    "            print(point1)\n",
    "        elif point2 is None:\n",
    "            point2 = (x,y)\n",
    "            print(point2)\n",
    "    if point1 is not None and point2 is not None:\n",
    "        croped_image = bunny_img[min(point1[1],point2[1]):max(point1[1],point2[1]),min(point1[0],point2[0]):max(point1[0],point2[0])]\n",
    "        cv2.imshow(\"cropped image\",croped_image)\n",
    "        cv2.imwrite(\"cropped_ouput.png\",croped_image)\n",
    "\n",
    "\n",
    "cv2.namedWindow('image')\n",
    "cv2.setMouseCallback(\"image\",crop)\n",
    "\n",
    "\n",
    "while True:\n",
    "    cv2.imshow(\"image\",bunny_img)\n",
    "\n",
    "    key = cv2.waitKey(1)\n",
    "    if key == 27:\n",
    "        break\n",
    "\n",
    "\n",
    "cv2.destroyAllWindows()"
   ]
  },
  {
   "cell_type": "markdown",
   "metadata": {},
   "source": [
    "# draw rectangle"
   ]
  },
  {
   "cell_type": "code",
   "execution_count": 4,
   "metadata": {},
   "outputs": [
    {
     "name": "stdout",
     "output_type": "stream",
     "text": [
      "(448, 275)\n",
      "(717, 464)\n"
     ]
    }
   ],
   "source": [
    "bunny_img=cv2.imread(bunny_image_path)\n",
    "\n",
    "point1=None\n",
    "point2=None\n",
    "\n",
    "def draw_rec(event,x,y,flag,param):\n",
    "    global point1,point2\n",
    "    if event == cv2.EVENT_LBUTTONDOWN:\n",
    "        if point1 is None:\n",
    "            point1 = (x,y)\n",
    "            print(point1)\n",
    "        elif point2 is None:\n",
    "            point2 = (x,y)\n",
    "            print(point2)\n",
    "    if point1 is not None and point2 is not None:\n",
    "        cv2.rectangle(bunny_img,point1,point2,(0,255,0),2)\n",
    "\n",
    "cv2.namedWindow('image')\n",
    "cv2.setMouseCallback(\"image\",draw_rec)\n",
    "\n",
    "\n",
    "while True:\n",
    "    cv2.imshow(\"image\",bunny_img)\n",
    "\n",
    "    key = cv2.waitKey(1)\n",
    "    if key == 27:\n",
    "        break\n",
    "\n",
    "\n",
    "cv2.destroyAllWindows()"
   ]
  },
  {
   "cell_type": "markdown",
   "metadata": {},
   "source": [
    "# draw circle"
   ]
  },
  {
   "cell_type": "code",
   "execution_count": 5,
   "metadata": {},
   "outputs": [
    {
     "name": "stdout",
     "output_type": "stream",
     "text": [
      "(444, 367)\n",
      "(741, 484)\n"
     ]
    }
   ],
   "source": [
    "bunny_img=cv2.imread(bunny_image_path)\n",
    "\n",
    "point1=None\n",
    "point2=None\n",
    "\n",
    "def draw_circle(event,x,y,flag,param):\n",
    "    global point1,point2\n",
    "    if event == cv2.EVENT_LBUTTONDOWN :\n",
    "        if point1 is None:\n",
    "            point1 = (x,y)\n",
    "            print(point1)\n",
    "        elif point2 is None:\n",
    "            point2 = (x,y)\n",
    "            print(point2)\n",
    "    if point1 is not None and point2 is not None :\n",
    "        c = ( int( ( point2[0] + point1[0] ) / 2 ) ,int( ( point2[1] + point1[1] ) / 2 ))\n",
    "        # print(c)\n",
    "        cv2.circle( bunny_img ,c ,int( c[0] - min( point2[0] ,point1[0] ) ) ,(0,255,0) ,2 )\n",
    "\n",
    "\n",
    "cv2.namedWindow('image')\n",
    "cv2.setMouseCallback(\"image\",draw_circle)\n",
    "\n",
    "\n",
    "while True:\n",
    "    cv2.imshow(\"image\",bunny_img)\n",
    "\n",
    "    key = cv2.waitKey(1)\n",
    "    if key == 27:\n",
    "        break\n",
    "\n",
    "\n",
    "cv2.destroyAllWindows()"
   ]
  }
 ],
 "metadata": {
  "kernelspec": {
   "display_name": "Python 3",
   "language": "python",
   "name": "python3"
  },
  "language_info": {
   "codemirror_mode": {
    "name": "ipython",
    "version": 3
   },
   "file_extension": ".py",
   "mimetype": "text/x-python",
   "name": "python",
   "nbconvert_exporter": "python",
   "pygments_lexer": "ipython3",
   "version": "3.11.5"
  }
 },
 "nbformat": 4,
 "nbformat_minor": 2
}
