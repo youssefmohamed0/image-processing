{
 "cells": [
  {
   "cell_type": "code",
   "execution_count": 1,
   "metadata": {},
   "outputs": [],
   "source": [
    "import cv2\n",
    "import matplotlib.pyplot\n",
    "import numpy\n",
    "import math"
   ]
  },
  {
   "cell_type": "code",
   "execution_count": 2,
   "metadata": {},
   "outputs": [],
   "source": [
    "bunny_image_path=\"images/bunny.jpg\""
   ]
  },
  {
   "cell_type": "markdown",
   "metadata": {},
   "source": [
    "# crop image"
   ]
  },
  {
   "cell_type": "code",
   "execution_count": 34,
   "metadata": {},
   "outputs": [
    {
     "name": "stdout",
     "output_type": "stream",
     "text": [
      "(213, 139)\n",
      "(1064, 753)\n"
     ]
    }
   ],
   "source": [
    "bunny_img=cv2.imread(bunny_image_path)\n",
    "\n",
    "point1=None\n",
    "point2=None\n",
    "\n",
    "def crop(event,x,y,flag,param):\n",
    "    global point1,point2\n",
    "    if event == cv2.EVENT_LBUTTONDOWN:\n",
    "        if point1 is None:\n",
    "            point1 = (x,y)\n",
    "            print(point1)\n",
    "        elif point2 is None:\n",
    "            point2 = (x,y)\n",
    "            print(point2)\n",
    "    if point1 is not None and point2 is not None:\n",
    "        croped_image=bunny_img[point1[1]:point2[1],point1[0]:point2[0]]\n",
    "        cv2.imshow(\"cropped image\",croped_image)\n",
    "\n",
    "\n",
    "cv2.namedWindow('image')\n",
    "cv2.setMouseCallback(\"image\",crop)\n",
    "\n",
    "\n",
    "while True:\n",
    "    cv2.imshow(\"image\",bunny_img)\n",
    "\n",
    "    key = cv2.waitKey(1)\n",
    "    if key == 27:\n",
    "        break\n",
    "\n",
    "\n",
    "cv2.destroyAllWindows()"
   ]
  },
  {
   "cell_type": "markdown",
   "metadata": {},
   "source": [
    "# draw rectangle"
   ]
  },
  {
   "cell_type": "code",
   "execution_count": 24,
   "metadata": {},
   "outputs": [
    {
     "name": "stdout",
     "output_type": "stream",
     "text": [
      "(415, 133)\n",
      "(1030, 663)\n"
     ]
    }
   ],
   "source": [
    "bunny_img=cv2.imread(bunny_image_path)\n",
    "\n",
    "point1=None\n",
    "point2=None\n",
    "\n",
    "def draw_rec(event,x,y,flag,param):\n",
    "    global point1,point2\n",
    "    if event == cv2.EVENT_LBUTTONDOWN:\n",
    "        if point1 is None:\n",
    "            point1 = (x,y)\n",
    "            print(point1)\n",
    "        elif point2 is None:\n",
    "            point2 = (x,y)\n",
    "            print(point2)\n",
    "    if point1 is not None and point2 is not None:\n",
    "        cv2.rectangle(bunny_img,point1,point2,(0,255,0),2)\n",
    "\n",
    "cv2.namedWindow('image')\n",
    "cv2.setMouseCallback(\"image\",draw_rec)\n",
    "\n",
    "\n",
    "while True:\n",
    "    cv2.imshow(\"image\",bunny_img)\n",
    "\n",
    "    key = cv2.waitKey(1)\n",
    "    if key == 27:\n",
    "        break\n",
    "\n",
    "\n",
    "cv2.destroyAllWindows()"
   ]
  },
  {
   "cell_type": "markdown",
   "metadata": {},
   "source": [
    "# draw circle"
   ]
  },
  {
   "cell_type": "code",
   "execution_count": 39,
   "metadata": {},
   "outputs": [
    {
     "name": "stdout",
     "output_type": "stream",
     "text": [
      "(479, 349)\n",
      "(870, 340)\n"
     ]
    }
   ],
   "source": [
    "bunny_img=cv2.imread(bunny_image_path)\n",
    "\n",
    "point1=None\n",
    "point2=None\n",
    "\n",
    "def draw_circle(event,x,y,flag,param):\n",
    "    global point1,point2\n",
    "    if event == cv2.EVENT_LBUTTONDOWN :\n",
    "        if point1 is None:\n",
    "            point1 = (x,y)\n",
    "            print(point1)\n",
    "        elif point2 is None:\n",
    "            point2 = (x,y)\n",
    "            print(point2)\n",
    "    if point1 is not None and point2 is not None and (flag & cv2.EVENT_FLAG_CTRLKEY):\n",
    "        c = ( int((point2[0]+point1[0])/2) , int((point2[1]+point1[1])/2))\n",
    "        # print(c)\n",
    "        cv2.circle(bunny_img,c,int(c[0]-point1[0]),(0,255,0),2)\n",
    "\n",
    "\n",
    "cv2.namedWindow('image')\n",
    "cv2.setMouseCallback(\"image\",draw_circle)\n",
    "\n",
    "\n",
    "while True:\n",
    "    cv2.imshow(\"image\",bunny_img)\n",
    "\n",
    "    key = cv2.waitKey(1)\n",
    "    if key == 27:\n",
    "        break\n",
    "\n",
    "\n",
    "cv2.destroyAllWindows()"
   ]
  }
 ],
 "metadata": {
  "kernelspec": {
   "display_name": "Python 3",
   "language": "python",
   "name": "python3"
  },
  "language_info": {
   "codemirror_mode": {
    "name": "ipython",
    "version": 3
   },
   "file_extension": ".py",
   "mimetype": "text/x-python",
   "name": "python",
   "nbconvert_exporter": "python",
   "pygments_lexer": "ipython3",
   "version": "3.11.5"
  }
 },
 "nbformat": 4,
 "nbformat_minor": 2
}
